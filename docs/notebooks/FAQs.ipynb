{
 "cells": [
  {
   "cell_type": "markdown",
   "id": "83e1412e",
   "metadata": {},
   "source": [
    "# FAQs\n",
    "\n",
    "## How to..."
   ]
  },
  {
   "cell_type": "markdown",
   "id": "e7800b3e",
   "metadata": {},
   "source": [
    "### ... get data for another symbol?"
   ]
  },
  {
   "cell_type": "code",
   "execution_count": 1,
   "id": "ff4e8ae5",
   "metadata": {},
   "outputs": [
    {
     "name": "stdout",
     "output_type": "stream",
     "text": [
      "Backtesting: 2022-01-01 00:00:00 to 2023-01-01 00:00:00\n",
      "\n",
      "Loading bar data...\n",
      "[*********************100%***********************]  2 of 2 completed\n",
      "Loaded bar data: 0:00:00 \n",
      "\n",
      "Computing indicators...\n"
     ]
    },
    {
     "name": "stderr",
     "output_type": "stream",
     "text": [
      "100% (2 of 2) |##########################| Elapsed Time: 0:00:00 Time:  0:00:00\n"
     ]
    },
    {
     "name": "stdout",
     "output_type": "stream",
     "text": [
      "\n",
      "Test split: 2022-01-03 00:00:00 to 2022-12-30 00:00:00\n"
     ]
    },
    {
     "name": "stderr",
     "output_type": "stream",
     "text": [
      "100% (251 of 251) |######################| Elapsed Time: 0:00:00 Time:  0:00:00\n"
     ]
    },
    {
     "name": "stdout",
     "output_type": "stream",
     "text": [
      "\n",
      "Finished backtest: 0:00:02\n"
     ]
    }
   ],
   "source": [
    "from pybroker import ExecContext, Strategy, YFinance, highest\n",
    "\n",
    "def exec_fn(ctx: ExecContext):\n",
    "    if ctx.symbol == 'NVDA':\n",
    "        other_bar_data = ctx.foreign('AMD')\n",
    "        other_highest = ctx.indicator('high_10d', 'AMD')\n",
    "        \n",
    "strategy = Strategy(YFinance(), start_date='1/1/2022', end_date='1/1/2023')\n",
    "strategy.add_execution(\n",
    "   exec_fn, ['NVDA', 'AMD'], indicators=highest('high_10d', 'close', period=10))\n",
    "result = strategy.backtest(calc_bootstrap=False)"
   ]
  },
  {
   "cell_type": "markdown",
   "id": "b9626cfd",
   "metadata": {},
   "source": [
    "You can also retrieve models, predictions, and other data for other symbols. [For more information, refer to the ExecContext reference documentation.](https://www.pybroker.com/en/latest/reference/pybroker.context.html#pybroker.context.ExecContext)"
   ]
  },
  {
   "cell_type": "markdown",
   "id": "387f1842",
   "metadata": {},
   "source": [
    "### ... place an order more than one bar ahead?\n",
    "\n",
    "Use the [buy_delay](https://www.pybroker.com/en/latest/reference/pybroker.config.html#pybroker.config.StrategyConfig.buy_delay) and [sell_delay](https://www.pybroker.com/en/latest/reference/pybroker.config.html#pybroker.config.StrategyConfig.sell_delay) configuration options:"
   ]
  },
  {
   "cell_type": "code",
   "execution_count": 2,
   "id": "39d5bcda",
   "metadata": {},
   "outputs": [
    {
     "name": "stdout",
     "output_type": "stream",
     "text": [
      "Backtesting: 2022-03-01 00:00:00 to 2023-01-01 00:00:00\n",
      "\n",
      "Loading bar data...\n",
      "[*********************100%***********************]  1 of 1 completed\n",
      "Loaded bar data: 0:00:00 \n",
      "\n",
      "Test split: 2022-03-01 00:00:00 to 2022-12-30 00:00:00\n"
     ]
    },
    {
     "name": "stderr",
     "output_type": "stream",
     "text": [
      "100% (212 of 212) |######################| Elapsed Time: 0:00:00 Time:  0:00:00\n"
     ]
    },
    {
     "name": "stdout",
     "output_type": "stream",
     "text": [
      "\n",
      "Finished backtest: 0:00:00\n"
     ]
    },
    {
     "data": {
      "text/html": [
       "<div>\n",
       "<style scoped>\n",
       "    .dataframe tbody tr th:only-of-type {\n",
       "        vertical-align: middle;\n",
       "    }\n",
       "\n",
       "    .dataframe tbody tr th {\n",
       "        vertical-align: top;\n",
       "    }\n",
       "\n",
       "    .dataframe thead th {\n",
       "        text-align: right;\n",
       "    }\n",
       "</style>\n",
       "<table border=\"1\" class=\"dataframe\">\n",
       "  <thead>\n",
       "    <tr style=\"text-align: right;\">\n",
       "      <th></th>\n",
       "      <th>type</th>\n",
       "      <th>symbol</th>\n",
       "      <th>date</th>\n",
       "      <th>shares</th>\n",
       "      <th>limit_price</th>\n",
       "      <th>fill_price</th>\n",
       "      <th>fees</th>\n",
       "    </tr>\n",
       "    <tr>\n",
       "      <th>id</th>\n",
       "      <th></th>\n",
       "      <th></th>\n",
       "      <th></th>\n",
       "      <th></th>\n",
       "      <th></th>\n",
       "      <th></th>\n",
       "      <th></th>\n",
       "    </tr>\n",
       "  </thead>\n",
       "  <tbody>\n",
       "    <tr>\n",
       "      <th>1</th>\n",
       "      <td>buy</td>\n",
       "      <td>SPY</td>\n",
       "      <td>2022-03-08</td>\n",
       "      <td>100</td>\n",
       "      <td>NaN</td>\n",
       "      <td>421.16</td>\n",
       "      <td>0.0</td>\n",
       "    </tr>\n",
       "    <tr>\n",
       "      <th>2</th>\n",
       "      <td>sell</td>\n",
       "      <td>SPY</td>\n",
       "      <td>2022-03-09</td>\n",
       "      <td>100</td>\n",
       "      <td>NaN</td>\n",
       "      <td>426.17</td>\n",
       "      <td>0.0</td>\n",
       "    </tr>\n",
       "    <tr>\n",
       "      <th>3</th>\n",
       "      <td>buy</td>\n",
       "      <td>SPY</td>\n",
       "      <td>2022-03-16</td>\n",
       "      <td>100</td>\n",
       "      <td>NaN</td>\n",
       "      <td>430.24</td>\n",
       "      <td>0.0</td>\n",
       "    </tr>\n",
       "    <tr>\n",
       "      <th>4</th>\n",
       "      <td>sell</td>\n",
       "      <td>SPY</td>\n",
       "      <td>2022-03-17</td>\n",
       "      <td>100</td>\n",
       "      <td>NaN</td>\n",
       "      <td>437.13</td>\n",
       "      <td>0.0</td>\n",
       "    </tr>\n",
       "    <tr>\n",
       "      <th>5</th>\n",
       "      <td>buy</td>\n",
       "      <td>SPY</td>\n",
       "      <td>2022-03-24</td>\n",
       "      <td>100</td>\n",
       "      <td>NaN</td>\n",
       "      <td>447.63</td>\n",
       "      <td>0.0</td>\n",
       "    </tr>\n",
       "    <tr>\n",
       "      <th>6</th>\n",
       "      <td>sell</td>\n",
       "      <td>SPY</td>\n",
       "      <td>2022-03-25</td>\n",
       "      <td>100</td>\n",
       "      <td>NaN</td>\n",
       "      <td>450.71</td>\n",
       "      <td>0.0</td>\n",
       "    </tr>\n",
       "    <tr>\n",
       "      <th>7</th>\n",
       "      <td>buy</td>\n",
       "      <td>SPY</td>\n",
       "      <td>2022-04-01</td>\n",
       "      <td>100</td>\n",
       "      <td>NaN</td>\n",
       "      <td>451.30</td>\n",
       "      <td>0.0</td>\n",
       "    </tr>\n",
       "    <tr>\n",
       "      <th>8</th>\n",
       "      <td>sell</td>\n",
       "      <td>SPY</td>\n",
       "      <td>2022-04-04</td>\n",
       "      <td>100</td>\n",
       "      <td>NaN</td>\n",
       "      <td>454.59</td>\n",
       "      <td>0.0</td>\n",
       "    </tr>\n",
       "    <tr>\n",
       "      <th>9</th>\n",
       "      <td>buy</td>\n",
       "      <td>SPY</td>\n",
       "      <td>2022-04-11</td>\n",
       "      <td>100</td>\n",
       "      <td>NaN</td>\n",
       "      <td>442.20</td>\n",
       "      <td>0.0</td>\n",
       "    </tr>\n",
       "    <tr>\n",
       "      <th>10</th>\n",
       "      <td>sell</td>\n",
       "      <td>SPY</td>\n",
       "      <td>2022-04-12</td>\n",
       "      <td>100</td>\n",
       "      <td>NaN</td>\n",
       "      <td>441.20</td>\n",
       "      <td>0.0</td>\n",
       "    </tr>\n",
       "  </tbody>\n",
       "</table>\n",
       "</div>"
      ],
      "text/plain": [
       "    type symbol       date  shares  limit_price  fill_price  fees\n",
       "id                                                               \n",
       "1    buy    SPY 2022-03-08     100          NaN      421.16   0.0\n",
       "2   sell    SPY 2022-03-09     100          NaN      426.17   0.0\n",
       "3    buy    SPY 2022-03-16     100          NaN      430.24   0.0\n",
       "4   sell    SPY 2022-03-17     100          NaN      437.13   0.0\n",
       "5    buy    SPY 2022-03-24     100          NaN      447.63   0.0\n",
       "6   sell    SPY 2022-03-25     100          NaN      450.71   0.0\n",
       "7    buy    SPY 2022-04-01     100          NaN      451.30   0.0\n",
       "8   sell    SPY 2022-04-04     100          NaN      454.59   0.0\n",
       "9    buy    SPY 2022-04-11     100          NaN      442.20   0.0\n",
       "10  sell    SPY 2022-04-12     100          NaN      441.20   0.0"
      ]
     },
     "execution_count": 2,
     "metadata": {},
     "output_type": "execute_result"
    }
   ],
   "source": [
    "from pybroker import ExecContext, Strategy, StrategyConfig, YFinance\n",
    "\n",
    "def buy_fn(ctx: ExecContext):\n",
    "    if not tuple(ctx.pending_orders()) and not ctx.long_pos():\n",
    "        ctx.buy_shares = 100\n",
    "        ctx.hold_bars = 1\n",
    "\n",
    "config = StrategyConfig(buy_delay=5)\n",
    "strategy = Strategy(YFinance(), start_date='3/1/2022', end_date='1/1/2023', config=config)\n",
    "strategy.add_execution(buy_fn, ['SPY'])\n",
    "result = strategy.backtest(calc_bootstrap=False)\n",
    "result.orders.head(10)"
   ]
  },
  {
   "cell_type": "markdown",
   "id": "f2225e38",
   "metadata": {},
   "source": [
    "### ... cancel pending orders?\n",
    "\n",
    "See the [cancel_pending_order](https://www.pybroker.com/en/latest/reference/pybroker.context.html#pybroker.context.ExecContext.cancel_pending_order) and [cancel_all_pending_orders](https://www.pybroker.com/en/latest/reference/pybroker.context.html#pybroker.context.ExecContext.cancel_all_pending_orders) methods."
   ]
  },
  {
   "cell_type": "code",
   "execution_count": 3,
   "id": "cdec0461",
   "metadata": {},
   "outputs": [
    {
     "name": "stdout",
     "output_type": "stream",
     "text": [
      "Backtesting: 2022-03-01 00:00:00 to 2023-01-01 00:00:00\n",
      "\n",
      "Loading bar data...\n",
      "[*********************100%***********************]  1 of 1 completed\n",
      "Loaded bar data: 0:00:01 \n",
      "\n",
      "Test split: 2022-03-01 00:00:00 to 2022-12-30 00:00:00\n"
     ]
    },
    {
     "name": "stderr",
     "output_type": "stream",
     "text": [
      "100% (212 of 212) |######################| Elapsed Time: 0:00:00 Time:  0:00:00\n"
     ]
    },
    {
     "name": "stdout",
     "output_type": "stream",
     "text": [
      "\n",
      "Finished backtest: 0:00:01\n"
     ]
    },
    {
     "data": {
      "text/html": [
       "<div>\n",
       "<style scoped>\n",
       "    .dataframe tbody tr th:only-of-type {\n",
       "        vertical-align: middle;\n",
       "    }\n",
       "\n",
       "    .dataframe tbody tr th {\n",
       "        vertical-align: top;\n",
       "    }\n",
       "\n",
       "    .dataframe thead th {\n",
       "        text-align: right;\n",
       "    }\n",
       "</style>\n",
       "<table border=\"1\" class=\"dataframe\">\n",
       "  <thead>\n",
       "    <tr style=\"text-align: right;\">\n",
       "      <th></th>\n",
       "      <th>type</th>\n",
       "      <th>symbol</th>\n",
       "      <th>date</th>\n",
       "      <th>shares</th>\n",
       "      <th>limit_price</th>\n",
       "      <th>fill_price</th>\n",
       "      <th>fees</th>\n",
       "    </tr>\n",
       "    <tr>\n",
       "      <th>id</th>\n",
       "      <th></th>\n",
       "      <th></th>\n",
       "      <th></th>\n",
       "      <th></th>\n",
       "      <th></th>\n",
       "      <th></th>\n",
       "      <th></th>\n",
       "    </tr>\n",
       "  </thead>\n",
       "  <tbody>\n",
       "    <tr>\n",
       "      <th>1</th>\n",
       "      <td>buy</td>\n",
       "      <td>SPY</td>\n",
       "      <td>2022-03-23</td>\n",
       "      <td>100</td>\n",
       "      <td>NaN</td>\n",
       "      <td>446.10</td>\n",
       "      <td>0.0</td>\n",
       "    </tr>\n",
       "    <tr>\n",
       "      <th>2</th>\n",
       "      <td>sell</td>\n",
       "      <td>SPY</td>\n",
       "      <td>2022-03-24</td>\n",
       "      <td>100</td>\n",
       "      <td>NaN</td>\n",
       "      <td>447.63</td>\n",
       "      <td>0.0</td>\n",
       "    </tr>\n",
       "    <tr>\n",
       "      <th>3</th>\n",
       "      <td>buy</td>\n",
       "      <td>SPY</td>\n",
       "      <td>2022-03-31</td>\n",
       "      <td>100</td>\n",
       "      <td>NaN</td>\n",
       "      <td>454.96</td>\n",
       "      <td>0.0</td>\n",
       "    </tr>\n",
       "    <tr>\n",
       "      <th>4</th>\n",
       "      <td>sell</td>\n",
       "      <td>SPY</td>\n",
       "      <td>2022-04-01</td>\n",
       "      <td>100</td>\n",
       "      <td>NaN</td>\n",
       "      <td>451.30</td>\n",
       "      <td>0.0</td>\n",
       "    </tr>\n",
       "    <tr>\n",
       "      <th>5</th>\n",
       "      <td>buy</td>\n",
       "      <td>SPY</td>\n",
       "      <td>2022-04-08</td>\n",
       "      <td>100</td>\n",
       "      <td>NaN</td>\n",
       "      <td>448.29</td>\n",
       "      <td>0.0</td>\n",
       "    </tr>\n",
       "    <tr>\n",
       "      <th>6</th>\n",
       "      <td>sell</td>\n",
       "      <td>SPY</td>\n",
       "      <td>2022-04-11</td>\n",
       "      <td>100</td>\n",
       "      <td>NaN</td>\n",
       "      <td>442.20</td>\n",
       "      <td>0.0</td>\n",
       "    </tr>\n",
       "    <tr>\n",
       "      <th>7</th>\n",
       "      <td>buy</td>\n",
       "      <td>SPY</td>\n",
       "      <td>2022-04-19</td>\n",
       "      <td>100</td>\n",
       "      <td>NaN</td>\n",
       "      <td>441.74</td>\n",
       "      <td>0.0</td>\n",
       "    </tr>\n",
       "    <tr>\n",
       "      <th>8</th>\n",
       "      <td>sell</td>\n",
       "      <td>SPY</td>\n",
       "      <td>2022-04-20</td>\n",
       "      <td>100</td>\n",
       "      <td>NaN</td>\n",
       "      <td>445.53</td>\n",
       "      <td>0.0</td>\n",
       "    </tr>\n",
       "  </tbody>\n",
       "</table>\n",
       "</div>"
      ],
      "text/plain": [
       "    type symbol       date  shares  limit_price  fill_price  fees\n",
       "id                                                               \n",
       "1    buy    SPY 2022-03-23     100          NaN      446.10   0.0\n",
       "2   sell    SPY 2022-03-24     100          NaN      447.63   0.0\n",
       "3    buy    SPY 2022-03-31     100          NaN      454.96   0.0\n",
       "4   sell    SPY 2022-04-01     100          NaN      451.30   0.0\n",
       "5    buy    SPY 2022-04-08     100          NaN      448.29   0.0\n",
       "6   sell    SPY 2022-04-11     100          NaN      442.20   0.0\n",
       "7    buy    SPY 2022-04-19     100          NaN      441.74   0.0\n",
       "8   sell    SPY 2022-04-20     100          NaN      445.53   0.0"
      ]
     },
     "execution_count": 3,
     "metadata": {},
     "output_type": "execute_result"
    }
   ],
   "source": [
    "from pybroker import ExecContext, Strategy, StrategyConfig, YFinance\n",
    "\n",
    "def buy_fn(ctx: ExecContext):\n",
    "    pending = tuple(ctx.pending_orders())\n",
    "    if not pending and not ctx.long_pos():\n",
    "        ctx.buy_shares = 100\n",
    "        ctx.hold_bars = 1\n",
    "    if pending and ctx.close[-1] < 430:\n",
    "        ctx.cancel_all_pending_orders(ctx.symbol)\n",
    "\n",
    "config = StrategyConfig(buy_delay=5)\n",
    "strategy = Strategy(YFinance(), start_date='3/1/2022', end_date='1/1/2023', config=config)\n",
    "strategy.add_execution(buy_fn, ['SPY'])\n",
    "result = strategy.backtest(calc_bootstrap=False)\n",
    "result.orders.head(10)"
   ]
  },
  {
   "cell_type": "markdown",
   "id": "912bbccf",
   "metadata": {},
   "source": [
    "### ... persist data across bars?\n",
    "\n",
    "Use the [ExecContext#session](https://www.pybroker.com/en/latest/reference/pybroker.context.html#pybroker.context.ExecContext.session) dictionary:"
   ]
  },
  {
   "cell_type": "code",
   "execution_count": 4,
   "id": "1cd464bb",
   "metadata": {},
   "outputs": [
    {
     "name": "stdout",
     "output_type": "stream",
     "text": [
      "Backtesting: 2022-01-01 00:00:00 to 2023-01-01 00:00:00\n",
      "\n",
      "Loading bar data...\n",
      "[*********************100%***********************]  1 of 1 completed\n",
      "Loaded bar data: 0:00:00 \n",
      "\n",
      "Test split: 2022-01-03 00:00:00 to 2022-12-30 00:00:00\n"
     ]
    },
    {
     "name": "stderr",
     "output_type": "stream",
     "text": [
      "100% (251 of 251) |######################| Elapsed Time: 0:00:00 Time:  0:00:00\n"
     ]
    },
    {
     "name": "stdout",
     "output_type": "stream",
     "text": [
      "\n",
      "Finished backtest: 0:00:00\n"
     ]
    }
   ],
   "source": [
    "from pybroker import ExecContext, Strategy, StrategyConfig, YFinance\n",
    "\n",
    "def buy_fn(ctx: ExecContext):\n",
    "    if not ctx.long_pos():\n",
    "        ctx.buy_shares = 100\n",
    "        ctx.hold_bars = 1\n",
    "        order_count = ctx.session.get('order_count', 0)\n",
    "        ctx.session['order_count'] = order_count + 1\n",
    "\n",
    "strategy = Strategy(YFinance(), start_date='1/1/2022', end_date='1/1/2023')\n",
    "strategy.add_execution(buy_fn, ['SPY'])\n",
    "result = strategy.backtest(calc_bootstrap=False)"
   ]
  }
 ],
 "metadata": {
  "kernelspec": {
   "display_name": "Python 3 (ipykernel)",
   "language": "python",
   "name": "python3"
  },
  "language_info": {
   "codemirror_mode": {
    "name": "ipython",
    "version": 3
   },
   "file_extension": ".py",
   "mimetype": "text/x-python",
   "name": "python",
   "nbconvert_exporter": "python",
   "pygments_lexer": "ipython3",
   "version": "3.9.16"
  }
 },
 "nbformat": 4,
 "nbformat_minor": 5
}
