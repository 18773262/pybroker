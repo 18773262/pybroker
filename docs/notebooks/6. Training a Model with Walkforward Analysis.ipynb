{
 "cells": [
  {
   "cell_type": "markdown",
   "id": "29de864c",
   "metadata": {},
   "source": [
    "# Training a Model with Walkforward Analysis\n",
    "\n",
    "Indicators are a good starting point for developing a trading strategy. But to create a successful strategy, it is likely that a more sophisticated approach using predictive modeling will be needed.\n",
    "\n",
    "Luckily, one of the main features of **PyBroker** is training and backtesting machine learning models. Models trained in **PyBroker** can use indicators as features. After training, the models can be backtested using a popular technique known as [Walkforward Analysis](https://www.youtube.com/watch?v=WBZ_Vv-iMv4), which will be explained later.\n",
    "\n",
    "But first, let's get started with some needed imports!"
   ]
  },
  {
   "cell_type": "code",
   "execution_count": 1,
   "id": "6699f2df",
   "metadata": {},
   "outputs": [],
   "source": [
    "import numpy as np\n",
    "import pandas as pd\n",
    "import pybroker\n",
    "from numba import njit\n",
    "from pybroker import Strategy, YFinance"
   ]
  },
  {
   "cell_type": "markdown",
   "id": "3a2c7fb5",
   "metadata": {},
   "source": [
    "Just as with [DataSource](https://www.pybroker.com/en/latest/reference/pybroker.data.html#pybroker.data.DataSource) and [Indicator](https://www.pybroker.com/en/latest/reference/pybroker.indicator.html#pybroker.indicator.Indicator) data, **PyBroker** can also cache trained models to disk. Caching all three is enabled by calling [pybroker.enable_caches](https://www.pybroker.com/en/latest/reference/pybroker.cache.html#pybroker.cache.enable_caches):"
   ]
  },
  {
   "cell_type": "code",
   "execution_count": 2,
   "id": "d6a5ae5f",
   "metadata": {},
   "outputs": [],
   "source": [
    "pybroker.enable_caches('walkforward_strategy')"
   ]
  },
  {
   "cell_type": "markdown",
   "id": "5b7a78ba",
   "metadata": {},
   "source": [
    "Below includes the close-minus-moving-average (CMMA) indicator that was implemented in [the last notebook](https://www.pybroker.com/en/latest/notebooks/5.%20Writing%20Indicators.html):"
   ]
  },
  {
   "cell_type": "code",
   "execution_count": 3,
   "id": "bcbef85f",
   "metadata": {},
   "outputs": [],
   "source": [
    "def cmma(bar_data, lookback):\n",
    "    @njit  # Enable Numba JIT.\n",
    "    # Define inner function.\n",
    "    def vec_cmma(values):\n",
    "        # Initialize the result array.\n",
    "        n = len(values)\n",
    "        out = np.array([np.nan for _ in range(n)])\n",
    "        \n",
    "        # For all bars starting at lookback:\n",
    "        for i in range(lookback, n):\n",
    "            # Calculate the moving average for the lookback.\n",
    "            ma = 0\n",
    "            for j in range(i - lookback, i):\n",
    "                ma += values[j]\n",
    "            ma /= lookback\n",
    "            # Subtract the moving average from value.\n",
    "            out[i] = values[i] - ma\n",
    "        return out\n",
    "    \n",
    "    # Calculate for close prices.\n",
    "    return vec_cmma(bar_data.close)\n",
    "\n",
    "ind_cmma_20 = pybroker.indicator('cmma_20', cmma, lookback=20)"
   ]
  },
  {
   "cell_type": "markdown",
   "id": "216876da",
   "metadata": {},
   "source": [
    "## Training a Model\n",
    "\n",
    "Next, we want to build a model that predicts the next day's return using the 20-day CMMA. Using [simple linear regression](https://en.wikipedia.org/wiki/Simple_linear_regression) for this task is a good example to begin experimenting with. Below we import [scikit-learn's](https://scikit-learn.org/stable/) [LinearRegression](https://scikit-learn.org/stable/modules/generated/sklearn.linear_model.LinearRegression.html) model:"
   ]
  },
  {
   "cell_type": "code",
   "execution_count": 4,
   "id": "40a28c9d",
   "metadata": {},
   "outputs": [],
   "source": [
    "from sklearn.linear_model import LinearRegression\n",
    "from sklearn.metrics import r2_score"
   ]
  },
  {
   "cell_type": "markdown",
   "id": "905a3d5c",
   "metadata": {},
   "source": [
    "Then the ```LinearRegression``` model is trained in the following function:"
   ]
  },
  {
   "cell_type": "code",
   "execution_count": 5,
   "id": "93056c20",
   "metadata": {},
   "outputs": [],
   "source": [
    "def train_slr(symbol, train_data, test_data):\n",
    "    # Train\n",
    "    # Previous day close prices.\n",
    "    train_prev_close = train_data['close'].shift(-1)\n",
    "    # Calculate daily returns.\n",
    "    train_daily_returns = (train_data['close'] - train_prev_close) / train_prev_close\n",
    "    # Predict next day's return.\n",
    "    train_data['pred'] = train_daily_returns.shift(-1)\n",
    "    train_data = train_data.dropna()\n",
    "    # Train the LinearRegession model to predict the next day's return\n",
    "    # given the 20-day CMMA.\n",
    "    X_train = train_data[['cmma_20']]\n",
    "    y_train = train_data[['pred']]\n",
    "    model = LinearRegression()\n",
    "    model.fit(X_train, y_train)\n",
    "    \n",
    "    # Test\n",
    "    test_prev_close = test_data['close'].shift(-1)\n",
    "    test_daily_returns = (test_data['close'] - test_prev_close) / test_prev_close\n",
    "    test_data['pred'] = test_daily_returns.shift(-1)\n",
    "    test_data = test_data.dropna()\n",
    "    X_test = test_data[['cmma_20']]\n",
    "    y_test = test_data[['pred']]\n",
    "    # Make predictions from test data.\n",
    "    y_pred = model.predict(X_test)\n",
    "    # Print goodness of fit.\n",
    "    r2 = r2_score(y_test, np.squeeze(y_pred))\n",
    "    print(symbol, f'R^2={r2}')\n",
    "    \n",
    "    # Return the trained model.\n",
    "    return model"
   ]
  },
  {
   "cell_type": "markdown",
   "id": "4f1fd74e",
   "metadata": {},
   "source": [
    "**PyBroker** will train a model for every ticker symbol in the backtest. This means our ```train_slr``` function will be called for each symbol and passed ```train``` and ```test``` data as [Pandas DataFrames](https://pandas.pydata.org/docs/reference/api/pandas.DataFrame.html).\n",
    "\n",
    "The ```train_slr``` function computes next day returns to train a ```LinearRegression``` model, using the 20-day CMMA indicator as the predictor. The test data is then used to compute R-squared and the goodness of fit is printed. The final step is to return the trained model, making it available to the backtest.\n",
    "\n",
    "After defining a function to train a model, the function needs to be registered with **PyBroker**:"
   ]
  },
  {
   "cell_type": "code",
   "execution_count": 6,
   "id": "e46d8c01",
   "metadata": {},
   "outputs": [],
   "source": [
    "model_slr = pybroker.model('slr', train_slr, indicators=[ind_cmma_20])"
   ]
  },
  {
   "cell_type": "markdown",
   "id": "4a37b917",
   "metadata": {},
   "source": [
    "The model returned by ```train_slr``` will be referenced with the name ```slr``` in backtests. Calling [pybroker.model](https://www.pybroker.com/en/latest/reference/pybroker.model.html#pybroker.model.model) returns a new [ModelSource](https://www.pybroker.com/en/latest/reference/pybroker.model.html#pybroker.model.ModelSource) instance that references the ```train_slr``` function.\n",
    "\n",
    "Now to create a [Strategy](https://www.pybroker.com/en/latest/reference/pybroker.strategy.html#pybroker.strategy.Strategy) that uses the model:"
   ]
  },
  {
   "cell_type": "code",
   "execution_count": 7,
   "id": "6059e0af",
   "metadata": {},
   "outputs": [],
   "source": [
    "strategy = Strategy(YFinance(), '3/1/2017', '3/1/2022')\n",
    "strategy.add_execution(None, ['NVDA', 'AMD'], models=model_slr)"
   ]
  },
  {
   "cell_type": "markdown",
   "id": "728da208",
   "metadata": {},
   "source": [
    "Passing ```None``` instead of a function as the first argument to [add_execution](https://www.pybroker.com/en/latest/reference/pybroker.strategy.html#pybroker.strategy.Strategy.add_execution) will result in only the model being trained during the backtest. \n",
    "\n",
    "The model is trained using a 50/50 train/test split:"
   ]
  },
  {
   "cell_type": "code",
   "execution_count": 8,
   "id": "f9484f84",
   "metadata": {},
   "outputs": [
    {
     "name": "stdout",
     "output_type": "stream",
     "text": [
      "Backtesting: 2017-03-01 00:00:00 to 2022-03-01 00:00:00\n",
      "\n",
      "Loading bar data...\n",
      "[*********************100%***********************]  2 of 2 completed\n",
      "Loaded bar data: 0:00:02 \n",
      "\n",
      "Generating indicators...\n"
     ]
    },
    {
     "name": "stderr",
     "output_type": "stream",
     "text": [
      "100% (2 of 2) |##########################| Elapsed Time: 0:00:07 Time:  0:00:07\n"
     ]
    },
    {
     "name": "stdout",
     "output_type": "stream",
     "text": [
      "\n",
      "Train split: 2017-03-01 05:00:00 to 2019-08-28 04:00:00\n",
      "AMD R^2=-0.007563478013524971\n",
      "NVDA R^2=-0.005552939273586466\n",
      "Finished training models: 0:00:00 \n",
      "\n",
      "Finished backtest: 0:00:09\n"
     ]
    }
   ],
   "source": [
    "strategy.backtest(train_size=0.5)"
   ]
  },
  {
   "cell_type": "markdown",
   "id": "912b0c7d",
   "metadata": {},
   "source": [
    "## Walkforward Analysis\n",
    "\n",
    "**PyBroker** implements an algorithm used for backtesting known as [Walkforward Analysis](https://www.youtube.com/watch?v=WBZ_Vv-iMv4). It works by first dividing the backtest data into a specified number of time windows that each contain a train/test split of data. Then the algorithm \"walks forward\" in time through the windows in the same way that a strategy would be executed in real life. \n",
    "\n",
    "For example, the model is first trained and then evaluated on the test data in the earliest window. When the algorithm walks forward to evaluate the next window in time, the algorithm includes the test data of the previous window for training. This process continues until all of the time windows are evaluated.\n",
    "\n",
    "![Walkforward Diagram](https://github.com/edtechre/pybroker/blob/master/docs/_static/walkforward.png?raw=true)\n",
    "\n",
    "Now consider a trading strategy that generates buy and sell signals from the [LinearRegression](https://scikit-learn.org/stable/modules/generated/sklearn.linear_model.LinearRegression.html) model that we trained earlier:"
   ]
  },
  {
   "cell_type": "code",
   "execution_count": 9,
   "id": "b065eb8d",
   "metadata": {},
   "outputs": [],
   "source": [
    "def hold_long(ctx):\n",
    "    if not ctx.long_pos():\n",
    "        # Buy if the next bar is predicted to have a positive return:\n",
    "        if ctx.preds('slr')[-1] > 0:\n",
    "            ctx.buy_shares = 100\n",
    "    else:\n",
    "        # Sell if the next bar is predicted to have a negative return:\n",
    "        if ctx.preds('slr')[-1] < 0:\n",
    "            ctx.sell_shares = 100\n",
    "            \n",
    "strategy.clear_executions()\n",
    "strategy.add_execution(hold_long, ['NVDA', 'AMD'], models=model_slr)"
   ]
  },
  {
   "cell_type": "markdown",
   "id": "1263e1ab",
   "metadata": {},
   "source": [
    "The ```hold_long``` function opens a long position when the model predicts a positive return for the next bar, and then closes the position when the model predicts a negative return. \n",
    "\n",
    "Calling ```ctx.preds('slr')``` returns a [NumPy array](https://numpy.org/doc/stable/reference/generated/numpy.array.html) of predictions from the ```slr``` model for every bar in the test data. Here, ```slr``` refers to the model instance that was trained for the ticker symbol currently being executed in ```hold_long``` (i.e. ```NVDA``` or ```AMD```). The most recent prediction for ```NVDA``` or ```AMD``` is accessed with ```ctx.preds('slr')[-1]```, which is ```slr's``` prediction of the next bar's return.\n",
    "\n",
    "But how did **PyBroker** generate the predictions? **PyBroker** will call the ```predict``` method on a trained model, passing input for all of the bars in the test data. By default, the input is a DataFrame containing all of the model's computed indicators.\n",
    "\n",
    "Next, the [Strategy](https://www.pybroker.com/en/latest/reference/pybroker.strategy.html#pybroker.strategy.Strategy) is run with Walkforward Analysis using 3 time ```windows``` each with 50/50 train/test data. A ```lookahead``` of ```1``` is used since our ```slr``` model makes a prediction for one bar in the future. Passing the correct ```lookahead``` value is needed to prevent training data from leaking into the test boundary. The ```lookahead``` should always be the number of bars in the future being predicted."
   ]
  },
  {
   "cell_type": "code",
   "execution_count": 10,
   "id": "c7566d0f",
   "metadata": {},
   "outputs": [
    {
     "name": "stdout",
     "output_type": "stream",
     "text": [
      "Backtesting: 2017-03-01 00:00:00 to 2022-03-01 00:00:00\n",
      "\n",
      "Loaded cached bar data.\n",
      "\n",
      "Loaded cached indicator data.\n",
      "\n",
      "Train split: 2017-03-06 05:00:00 to 2018-06-01 04:00:00\n",
      "AMD R^2=-0.00873901236622765\n",
      "NVDA R^2=-0.025192195103782344\n",
      "Finished training models: 0:00:00 \n",
      "\n",
      "Test split: 2018-06-04 04:00:00 to 2019-08-30 04:00:00\n"
     ]
    },
    {
     "name": "stderr",
     "output_type": "stream",
     "text": [
      "100% (314 of 314) |######################| Elapsed Time: 0:00:00 Time:  0:00:00\n"
     ]
    },
    {
     "name": "stdout",
     "output_type": "stream",
     "text": [
      "\n",
      "Train split: 2018-06-04 04:00:00 to 2019-08-30 04:00:00\n",
      "AMD R^2=-0.006366006546040692\n",
      "NVDA R^2=-0.020911194665710564\n",
      "Finished training models: 0:00:00 \n",
      "\n",
      "Test split: 2019-09-03 04:00:00 to 2020-11-27 05:00:00\n"
     ]
    },
    {
     "name": "stderr",
     "output_type": "stream",
     "text": [
      "100% (314 of 314) |######################| Elapsed Time: 0:00:00 Time:  0:00:00\n"
     ]
    },
    {
     "name": "stdout",
     "output_type": "stream",
     "text": [
      "\n",
      "Train split: 2019-09-03 04:00:00 to 2020-11-27 05:00:00\n",
      "AMD R^2=-0.010763423834853292\n",
      "NVDA R^2=-0.01795827937816341\n",
      "Finished training models: 0:00:00 \n",
      "\n",
      "Test split: 2020-11-30 05:00:00 to 2022-02-28 05:00:00\n"
     ]
    },
    {
     "name": "stderr",
     "output_type": "stream",
     "text": [
      "100% (314 of 314) |######################| Elapsed Time: 0:00:00 Time:  0:00:00\n"
     ]
    },
    {
     "name": "stdout",
     "output_type": "stream",
     "text": [
      "\n",
      "Calculating bootstrap metrics: sample_size=1000, samples=10000...\n",
      "Calculated bootstrap metrics: 0:00:03 \n",
      "\n",
      "Finished backtest: 0:00:06\n"
     ]
    }
   ],
   "source": [
    "result = strategy.walkforward(windows=3, train_size=0.5, lookahead=1)"
   ]
  },
  {
   "cell_type": "markdown",
   "id": "f8619725",
   "metadata": {},
   "source": [
    "As you can see, the ``slr`` model was trained on a window's train data, and then our ``hold_long`` function ran on that window's test data."
   ]
  },
  {
   "cell_type": "code",
   "execution_count": 11,
   "id": "2bb849bb",
   "metadata": {},
   "outputs": [
    {
     "data": {
      "text/html": [
       "<div>\n",
       "<style scoped>\n",
       "    .dataframe tbody tr th:only-of-type {\n",
       "        vertical-align: middle;\n",
       "    }\n",
       "\n",
       "    .dataframe tbody tr th {\n",
       "        vertical-align: top;\n",
       "    }\n",
       "\n",
       "    .dataframe thead th {\n",
       "        text-align: right;\n",
       "    }\n",
       "</style>\n",
       "<table border=\"1\" class=\"dataframe\">\n",
       "  <thead>\n",
       "    <tr style=\"text-align: right;\">\n",
       "      <th></th>\n",
       "      <th>name</th>\n",
       "      <th>value</th>\n",
       "    </tr>\n",
       "  </thead>\n",
       "  <tbody>\n",
       "    <tr>\n",
       "      <th>0</th>\n",
       "      <td>trade_count</td>\n",
       "      <td>147.000000</td>\n",
       "    </tr>\n",
       "    <tr>\n",
       "      <th>1</th>\n",
       "      <td>initial_market_value</td>\n",
       "      <td>100000.000000</td>\n",
       "    </tr>\n",
       "    <tr>\n",
       "      <th>2</th>\n",
       "      <td>end_market_value</td>\n",
       "      <td>114465.000000</td>\n",
       "    </tr>\n",
       "    <tr>\n",
       "      <th>3</th>\n",
       "      <td>total_pnl</td>\n",
       "      <td>43395.000000</td>\n",
       "    </tr>\n",
       "    <tr>\n",
       "      <th>4</th>\n",
       "      <td>total_return_pct</td>\n",
       "      <td>43.395000</td>\n",
       "    </tr>\n",
       "    <tr>\n",
       "      <th>5</th>\n",
       "      <td>total_profit</td>\n",
       "      <td>74544.000000</td>\n",
       "    </tr>\n",
       "    <tr>\n",
       "      <th>6</th>\n",
       "      <td>total_loss</td>\n",
       "      <td>-31149.000000</td>\n",
       "    </tr>\n",
       "    <tr>\n",
       "      <th>7</th>\n",
       "      <td>total_fees</td>\n",
       "      <td>0.000000</td>\n",
       "    </tr>\n",
       "    <tr>\n",
       "      <th>8</th>\n",
       "      <td>max_drawdown</td>\n",
       "      <td>-18153.000000</td>\n",
       "    </tr>\n",
       "    <tr>\n",
       "      <th>9</th>\n",
       "      <td>max_drawdown_pct</td>\n",
       "      <td>-15.363977</td>\n",
       "    </tr>\n",
       "    <tr>\n",
       "      <th>10</th>\n",
       "      <td>win_rate</td>\n",
       "      <td>46.938776</td>\n",
       "    </tr>\n",
       "    <tr>\n",
       "      <th>11</th>\n",
       "      <td>loss_rate</td>\n",
       "      <td>53.061224</td>\n",
       "    </tr>\n",
       "    <tr>\n",
       "      <th>12</th>\n",
       "      <td>winning_trades</td>\n",
       "      <td>69.000000</td>\n",
       "    </tr>\n",
       "    <tr>\n",
       "      <th>13</th>\n",
       "      <td>losing_trades</td>\n",
       "      <td>78.000000</td>\n",
       "    </tr>\n",
       "    <tr>\n",
       "      <th>14</th>\n",
       "      <td>avg_pnl</td>\n",
       "      <td>295.204082</td>\n",
       "    </tr>\n",
       "    <tr>\n",
       "      <th>15</th>\n",
       "      <td>avg_return_pct</td>\n",
       "      <td>6.226327</td>\n",
       "    </tr>\n",
       "    <tr>\n",
       "      <th>16</th>\n",
       "      <td>avg_trade_bars</td>\n",
       "      <td>13.204082</td>\n",
       "    </tr>\n",
       "    <tr>\n",
       "      <th>17</th>\n",
       "      <td>avg_profit</td>\n",
       "      <td>1080.347826</td>\n",
       "    </tr>\n",
       "    <tr>\n",
       "      <th>18</th>\n",
       "      <td>avg_profit_pct</td>\n",
       "      <td>18.489565</td>\n",
       "    </tr>\n",
       "    <tr>\n",
       "      <th>19</th>\n",
       "      <td>avg_winning_trade_bars</td>\n",
       "      <td>23.652174</td>\n",
       "    </tr>\n",
       "    <tr>\n",
       "      <th>20</th>\n",
       "      <td>avg_loss</td>\n",
       "      <td>-399.346154</td>\n",
       "    </tr>\n",
       "    <tr>\n",
       "      <th>21</th>\n",
       "      <td>avg_loss_pct</td>\n",
       "      <td>-4.621923</td>\n",
       "    </tr>\n",
       "    <tr>\n",
       "      <th>22</th>\n",
       "      <td>avg_losing_trade_bars</td>\n",
       "      <td>3.961538</td>\n",
       "    </tr>\n",
       "    <tr>\n",
       "      <th>23</th>\n",
       "      <td>largest_win</td>\n",
       "      <td>9183.000000</td>\n",
       "    </tr>\n",
       "    <tr>\n",
       "      <th>24</th>\n",
       "      <td>largest_win_bars</td>\n",
       "      <td>314.000000</td>\n",
       "    </tr>\n",
       "    <tr>\n",
       "      <th>25</th>\n",
       "      <td>largest_loss</td>\n",
       "      <td>-2024.000000</td>\n",
       "    </tr>\n",
       "    <tr>\n",
       "      <th>26</th>\n",
       "      <td>largest_loss_bars</td>\n",
       "      <td>2.000000</td>\n",
       "    </tr>\n",
       "    <tr>\n",
       "      <th>27</th>\n",
       "      <td>max_wins</td>\n",
       "      <td>4.000000</td>\n",
       "    </tr>\n",
       "    <tr>\n",
       "      <th>28</th>\n",
       "      <td>max_losses</td>\n",
       "      <td>4.000000</td>\n",
       "    </tr>\n",
       "    <tr>\n",
       "      <th>29</th>\n",
       "      <td>sharpe</td>\n",
       "      <td>0.010587</td>\n",
       "    </tr>\n",
       "    <tr>\n",
       "      <th>30</th>\n",
       "      <td>profit_factor</td>\n",
       "      <td>1.074995</td>\n",
       "    </tr>\n",
       "    <tr>\n",
       "      <th>31</th>\n",
       "      <td>ulcer_index</td>\n",
       "      <td>1.429770</td>\n",
       "    </tr>\n",
       "    <tr>\n",
       "      <th>32</th>\n",
       "      <td>upi</td>\n",
       "      <td>0.004024</td>\n",
       "    </tr>\n",
       "    <tr>\n",
       "      <th>33</th>\n",
       "      <td>equity_r2</td>\n",
       "      <td>0.092089</td>\n",
       "    </tr>\n",
       "    <tr>\n",
       "      <th>34</th>\n",
       "      <td>std_error</td>\n",
       "      <td>5102.080760</td>\n",
       "    </tr>\n",
       "  </tbody>\n",
       "</table>\n",
       "</div>"
      ],
      "text/plain": [
       "                      name          value\n",
       "0              trade_count     147.000000\n",
       "1     initial_market_value  100000.000000\n",
       "2         end_market_value  114465.000000\n",
       "3                total_pnl   43395.000000\n",
       "4         total_return_pct      43.395000\n",
       "5             total_profit   74544.000000\n",
       "6               total_loss  -31149.000000\n",
       "7               total_fees       0.000000\n",
       "8             max_drawdown  -18153.000000\n",
       "9         max_drawdown_pct     -15.363977\n",
       "10                win_rate      46.938776\n",
       "11               loss_rate      53.061224\n",
       "12          winning_trades      69.000000\n",
       "13           losing_trades      78.000000\n",
       "14                 avg_pnl     295.204082\n",
       "15          avg_return_pct       6.226327\n",
       "16          avg_trade_bars      13.204082\n",
       "17              avg_profit    1080.347826\n",
       "18          avg_profit_pct      18.489565\n",
       "19  avg_winning_trade_bars      23.652174\n",
       "20                avg_loss    -399.346154\n",
       "21            avg_loss_pct      -4.621923\n",
       "22   avg_losing_trade_bars       3.961538\n",
       "23             largest_win    9183.000000\n",
       "24        largest_win_bars     314.000000\n",
       "25            largest_loss   -2024.000000\n",
       "26       largest_loss_bars       2.000000\n",
       "27                max_wins       4.000000\n",
       "28              max_losses       4.000000\n",
       "29                  sharpe       0.010587\n",
       "30           profit_factor       1.074995\n",
       "31             ulcer_index       1.429770\n",
       "32                     upi       0.004024\n",
       "33               equity_r2       0.092089\n",
       "34               std_error    5102.080760"
      ]
     },
     "execution_count": 11,
     "metadata": {},
     "output_type": "execute_result"
    }
   ],
   "source": [
    "result.metrics_df"
   ]
  },
  {
   "cell_type": "code",
   "execution_count": 12,
   "id": "8ee26a14",
   "metadata": {},
   "outputs": [
    {
     "data": {
      "text/html": [
       "<div>\n",
       "<style scoped>\n",
       "    .dataframe tbody tr th:only-of-type {\n",
       "        vertical-align: middle;\n",
       "    }\n",
       "\n",
       "    .dataframe tbody tr th {\n",
       "        vertical-align: top;\n",
       "    }\n",
       "\n",
       "    .dataframe thead th {\n",
       "        text-align: right;\n",
       "    }\n",
       "</style>\n",
       "<table border=\"1\" class=\"dataframe\">\n",
       "  <thead>\n",
       "    <tr style=\"text-align: right;\">\n",
       "      <th></th>\n",
       "      <th></th>\n",
       "      <th>lower</th>\n",
       "      <th>upper</th>\n",
       "    </tr>\n",
       "    <tr>\n",
       "      <th>name</th>\n",
       "      <th>conf</th>\n",
       "      <th></th>\n",
       "      <th></th>\n",
       "    </tr>\n",
       "  </thead>\n",
       "  <tbody>\n",
       "    <tr>\n",
       "      <th rowspan=\"3\" valign=\"top\">Log Profit Factor</th>\n",
       "      <th>97.5%</th>\n",
       "      <td>-0.700647</td>\n",
       "      <td>0.296475</td>\n",
       "    </tr>\n",
       "    <tr>\n",
       "      <th>95%</th>\n",
       "      <td>-0.580197</td>\n",
       "      <td>0.248838</td>\n",
       "    </tr>\n",
       "    <tr>\n",
       "      <th>90%</th>\n",
       "      <td>-0.465431</td>\n",
       "      <td>0.190623</td>\n",
       "    </tr>\n",
       "    <tr>\n",
       "      <th rowspan=\"3\" valign=\"top\">Sharpe Ratio</th>\n",
       "      <th>97.5%</th>\n",
       "      <td>-0.067689</td>\n",
       "      <td>0.063433</td>\n",
       "    </tr>\n",
       "    <tr>\n",
       "      <th>95%</th>\n",
       "      <td>-0.060380</td>\n",
       "      <td>0.053718</td>\n",
       "    </tr>\n",
       "    <tr>\n",
       "      <th>90%</th>\n",
       "      <td>-0.049353</td>\n",
       "      <td>0.038967</td>\n",
       "    </tr>\n",
       "  </tbody>\n",
       "</table>\n",
       "</div>"
      ],
      "text/plain": [
       "                            lower     upper\n",
       "name              conf                     \n",
       "Log Profit Factor 97.5% -0.700647  0.296475\n",
       "                  95%   -0.580197  0.248838\n",
       "                  90%   -0.465431  0.190623\n",
       "Sharpe Ratio      97.5% -0.067689  0.063433\n",
       "                  95%   -0.060380  0.053718\n",
       "                  90%   -0.049353  0.038967"
      ]
     },
     "execution_count": 12,
     "metadata": {},
     "output_type": "execute_result"
    }
   ],
   "source": [
    "result.bootstrap.conf_intervals"
   ]
  },
  {
   "cell_type": "code",
   "execution_count": 13,
   "id": "5b3b2433",
   "metadata": {},
   "outputs": [
    {
     "data": {
      "text/html": [
       "<div>\n",
       "<style scoped>\n",
       "    .dataframe tbody tr th:only-of-type {\n",
       "        vertical-align: middle;\n",
       "    }\n",
       "\n",
       "    .dataframe tbody tr th {\n",
       "        vertical-align: top;\n",
       "    }\n",
       "\n",
       "    .dataframe thead th {\n",
       "        text-align: right;\n",
       "    }\n",
       "</style>\n",
       "<table border=\"1\" class=\"dataframe\">\n",
       "  <thead>\n",
       "    <tr style=\"text-align: right;\">\n",
       "      <th></th>\n",
       "      <th>amount</th>\n",
       "      <th>percent</th>\n",
       "    </tr>\n",
       "    <tr>\n",
       "      <th>conf</th>\n",
       "      <th></th>\n",
       "      <th></th>\n",
       "    </tr>\n",
       "  </thead>\n",
       "  <tbody>\n",
       "    <tr>\n",
       "      <th>99.9%</th>\n",
       "      <td>-62510.25</td>\n",
       "      <td>-44.127732</td>\n",
       "    </tr>\n",
       "    <tr>\n",
       "      <th>99%</th>\n",
       "      <td>-45346.00</td>\n",
       "      <td>-34.284837</td>\n",
       "    </tr>\n",
       "    <tr>\n",
       "      <th>95%</th>\n",
       "      <td>-33329.25</td>\n",
       "      <td>-26.517323</td>\n",
       "    </tr>\n",
       "    <tr>\n",
       "      <th>90%</th>\n",
       "      <td>-28052.50</td>\n",
       "      <td>-22.877742</td>\n",
       "    </tr>\n",
       "  </tbody>\n",
       "</table>\n",
       "</div>"
      ],
      "text/plain": [
       "         amount    percent\n",
       "conf                      \n",
       "99.9% -62510.25 -44.127732\n",
       "99%   -45346.00 -34.284837\n",
       "95%   -33329.25 -26.517323\n",
       "90%   -28052.50 -22.877742"
      ]
     },
     "execution_count": 13,
     "metadata": {},
     "output_type": "execute_result"
    }
   ],
   "source": [
    "result.bootstrap.drawdown_conf"
   ]
  },
  {
   "cell_type": "markdown",
   "id": "0f1abad3",
   "metadata": {},
   "source": [
    "And we are done! The metrics above were evaluated on the test data from all of the time windows in the Walkforward Analysis.\n",
    "\n",
    "Even though we based our buy and sell decisions on our model's predicted returns, we could also use model predictions to [rank tickers, as shown in a previous notebook](https://www.pybroker.com/en/latest/notebooks/4.%20Ranking%20and%20Position%20Sizing.html).\n",
    "\n",
    "Of course, you are not only limited to building linear regression models. You can also train other model types like gradient boosted machines, neural networks, or any other architecture you would like! And you can specify an [input_data_fn](https://www.pybroker.com/en/latest/reference/pybroker.model.html#pybroker.model.model) for your model in case you need to customize how its input data is built. For example, this would be needed when constructing input for autoregressive models (i.e. ARMA or RNN) since they use multiple past values to make predictions.\n",
    "\n",
    "Now you have enough knowledge to begin developing you own models and trading strategies in **PyBroker**!"
   ]
  }
 ],
 "metadata": {
  "kernelspec": {
   "display_name": "Python 3 (ipykernel)",
   "language": "python",
   "name": "python3"
  },
  "language_info": {
   "codemirror_mode": {
    "name": "ipython",
    "version": 3
   },
   "file_extension": ".py",
   "mimetype": "text/x-python",
   "name": "python",
   "nbconvert_exporter": "python",
   "pygments_lexer": "ipython3",
   "version": "3.10.8"
  }
 },
 "nbformat": 4,
 "nbformat_minor": 5
}
