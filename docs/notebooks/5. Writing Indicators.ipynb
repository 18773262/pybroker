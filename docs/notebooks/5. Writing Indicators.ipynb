{
 "cells": [
  {
   "cell_type": "markdown",
   "id": "9049c131",
   "metadata": {},
   "source": [
    "# Writing Indicators\n",
    "\n",
    "This notebook covers implementing a custom stock indicator in **PyBroker** and integrating it into a trading strategy.\n",
    "\n",
    "**PyBroker** uses vectorized indicators that are computed on all bars of data at a single time. This makes [NumPy](https://numpy.org/) a natural choice for writing indicators in **PyBroker**:"
   ]
  },
  {
   "cell_type": "code",
   "execution_count": 1,
   "id": "9693079f",
   "metadata": {},
   "outputs": [],
   "source": [
    "import numpy as np\n",
    "from numba import njit"
   ]
  },
  {
   "cell_type": "markdown",
   "id": "3e4780a3",
   "metadata": {},
   "source": [
    "We also import [Numba](https://numba.pydata.org/), a Just In Time (JIT) compiler that translates a subset of Python into fast machine code. Numba is ideal for code that works with loops and NumPy arrays.  \n",
    "\n",
    "Below is an indicator function that calculates close prices minus a moving average (CMMA), which could be used for a [mean reversion](https://en.wikipedia.org/wiki/Mean_reversion_(finance)) strategy:"
   ]
  },
  {
   "cell_type": "code",
   "execution_count": 2,
   "id": "e2f2cbb5",
   "metadata": {},
   "outputs": [],
   "source": [
    "def cmma(bar_data, lookback):\n",
    "    @njit  # Enable Numba JIT.\n",
    "    def vec_cmma(values):\n",
    "        # Initialize the result array.\n",
    "        n = len(values)\n",
    "        out = np.array([np.nan for _ in range(n)])\n",
    "        \n",
    "        # For all bars starting at lookback:\n",
    "        for i in range(lookback, n):\n",
    "            # Calculate the moving average for the lookback.\n",
    "            ma = 0\n",
    "            for j in range(i - lookback, i):\n",
    "                ma += values[j]\n",
    "            ma /= lookback\n",
    "            # Subtract the moving average from value.\n",
    "            out[i] = values[i] - ma\n",
    "        return out\n",
    "    \n",
    "    # Calculate with close prices.\n",
    "    return vec_cmma(bar_data.close)"
   ]
  },
  {
   "cell_type": "markdown",
   "id": "6f9dcf30",
   "metadata": {},
   "source": [
    "The ```cmma``` function takes two arguments. The first argument, ```bar_data```, is an instance of [BarData](https://www.pybroker.com/en/latest/reference/pybroker.common.html#pybroker.common.BarData). The BarData class holds fields for open, high, low, and close prices (OHLC), as well as all custom fields that were registered with **PyBroker**. The second argument, ```lookback```, is a user-defined argument for the lookback of the moving average.\n",
    "\n",
    "Take note of the nesting of the ```vec_cmma``` function. Nesting is needed since ```vec_cmma``` is JIT-compiled by Numba. A Numba compiled function will support a NumPy array as an argument, but not an instance of a Python class like ```BarData```.\n",
    "\n",
    "As mentioned, indicators in **PyBroker** are *vectorized*. The indicator values are computed over all of the historical data at one time, as shown in ```vec_cmma```. Making this computation all at once makes backtests run much faster!\n",
    "\n",
    "Next, the indicator function is registered with **PyBroker**:"
   ]
  },
  {
   "cell_type": "code",
   "execution_count": 3,
   "id": "d82ef9b8",
   "metadata": {},
   "outputs": [],
   "source": [
    "import pybroker\n",
    "\n",
    "ind_cmma_20 = pybroker.indicator('cmma_20', cmma, lookback=20)"
   ]
  },
  {
   "cell_type": "markdown",
   "id": "344a5a39",
   "metadata": {},
   "source": [
    "The above registers the indicator function with **PyBroker** using a name of ```cmma_20```, denoting the ```lookback``` of 20 bars. Any arguments to the indicator function that appear after ```bar_data``` are treated as user-defined arguments that are passed to [pybroker.indicator](https://www.pybroker.com/en/latest/reference/pybroker.indicator.html#pybroker.indicator.indicator). After the indicator function is registered with **PyBroker**, a new [Indicator](https://www.pybroker.com/en/latest/reference/pybroker.indicator.html#pybroker.indicator.Indicator) instance is returned that references the indicator function we defined.\n",
    "\n",
    "Now, let us test the ```Indicator``` with some data downloaded from [Yahoo Finance](https://finance.yahoo.com):"
   ]
  },
  {
   "cell_type": "code",
   "execution_count": 4,
   "id": "5133a343",
   "metadata": {},
   "outputs": [
    {
     "name": "stdout",
     "output_type": "stream",
     "text": [
      "Loading bar data...\n",
      "[*********************100%***********************]  1 of 1 completed\n",
      "Loaded bar data: 0:00:02 \n",
      "\n"
     ]
    }
   ],
   "source": [
    "from pybroker import YFinance\n",
    "\n",
    "pybroker.enable_data_source_cache('yfinance')\n",
    "\n",
    "yfinance = YFinance()\n",
    "df = yfinance.query('PG', '4/1/2020', '4/1/2022')"
   ]
  },
  {
   "cell_type": "code",
   "execution_count": 5,
   "id": "72058bc2",
   "metadata": {},
   "outputs": [
    {
     "data": {
      "text/plain": [
       "2020-04-01 04:00:00         NaN\n",
       "2020-04-02 04:00:00         NaN\n",
       "2020-04-03 04:00:00         NaN\n",
       "2020-04-06 04:00:00         NaN\n",
       "2020-04-07 04:00:00         NaN\n",
       "                         ...   \n",
       "2022-03-25 04:00:00    1.967502\n",
       "2022-03-28 04:00:00    3.288005\n",
       "2022-03-29 04:00:00    4.968507\n",
       "2022-03-30 04:00:00    3.790999\n",
       "2022-03-31 04:00:00    2.171002\n",
       "Length: 505, dtype: float64"
      ]
     },
     "execution_count": 5,
     "metadata": {},
     "output_type": "execute_result"
    }
   ],
   "source": [
    "ind_cmma_20(df)"
   ]
  },
  {
   "cell_type": "markdown",
   "id": "c931666e",
   "metadata": {},
   "source": [
    "As you can see, the ```Indicator``` instance is a ```Callable```. Once called, a [Pandas Series](https://pandas.pydata.org/docs/reference/api/pandas.Series.html) containing the computed indicator values is returned.\n",
    "\n",
    "The ```Indicator``` class also contains functions for measuring its information content, like its interquartile range (IQR):"
   ]
  },
  {
   "cell_type": "code",
   "execution_count": 6,
   "id": "df73939a",
   "metadata": {},
   "outputs": [
    {
     "data": {
      "text/plain": [
       "4.655495452880842"
      ]
     },
     "execution_count": 6,
     "metadata": {},
     "output_type": "execute_result"
    }
   ],
   "source": [
    "ind_cmma_20.iqr(df)"
   ]
  },
  {
   "cell_type": "markdown",
   "id": "5ca5c0a6",
   "metadata": {},
   "source": [
    "And its relative entropy:"
   ]
  },
  {
   "cell_type": "code",
   "execution_count": 7,
   "id": "482ba588",
   "metadata": {},
   "outputs": [
    {
     "data": {
      "text/plain": [
       "0.7495800114455111"
      ]
     },
     "execution_count": 7,
     "metadata": {},
     "output_type": "execute_result"
    }
   ],
   "source": [
    "ind_cmma_20.relative_entropy(df)"
   ]
  },
  {
   "cell_type": "markdown",
   "id": "819c632e",
   "metadata": {},
   "source": [
    "## Using the Indicator in a Strategy\n",
    "\n",
    "Once we are satisified with our indicator's implementation, the next step is to use it in a trading strategy. The simple strategy below goes long when the 20-day CMMA is less than 0 – i.e. when the last close price drops below the 20-day moving average:"
   ]
  },
  {
   "cell_type": "code",
   "execution_count": 8,
   "id": "ad7b58ff",
   "metadata": {},
   "outputs": [],
   "source": [
    "def buy_cmma_cross(ctx):\n",
    "    if ctx.long_pos():\n",
    "        return\n",
    "    # Place a buy order if the most recent value of the 20 day CMMA is < 0:\n",
    "    if ctx.indicator('cmma_20')[-1] < 0:\n",
    "        ctx.buy_shares = ctx.calc_target_shares(1)\n",
    "        ctx.hold_bars = 3"
   ]
  },
  {
   "cell_type": "markdown",
   "id": "70264259",
   "metadata": {},
   "source": [
    "The indicator values are retrieved by calling [ctx.indicator](https://www.pybroker.com/en/latest/reference/pybroker.context.html#pybroker.context.BaseContext.indicator) on the [ExecContext](https://www.pybroker.com/en/latest/reference/pybroker.context.html#pybroker.context.ExecContext) and passing in the ```cmma_20``` indicator name that was registered."
   ]
  },
  {
   "cell_type": "code",
   "execution_count": 9,
   "id": "1af703ce",
   "metadata": {},
   "outputs": [],
   "source": [
    "from pybroker import Strategy\n",
    "\n",
    "strategy = Strategy(yfinance, '4/1/2020', '4/1/2022')\n",
    "strategy.add_execution(buy_cmma_cross, 'PG', indicators=ind_cmma_20)"
   ]
  },
  {
   "cell_type": "markdown",
   "id": "5341a0a6",
   "metadata": {},
   "source": [
    "The ```buy_cmma_cross``` function was added to the [Strategy](https://www.pybroker.com/en/latest/reference/pybroker.strategy.html#pybroker.strategy.Strategy) along with the ```ind_cmma_20``` ```Indicator```."
   ]
  },
  {
   "cell_type": "code",
   "execution_count": 10,
   "id": "e623ab3a",
   "metadata": {},
   "outputs": [
    {
     "data": {
      "text/plain": [
       "<diskcache.core.Cache at 0x7fb758546d40>"
      ]
     },
     "execution_count": 10,
     "metadata": {},
     "output_type": "execute_result"
    }
   ],
   "source": [
    "pybroker.enable_indicator_cache('my_indicators')"
   ]
  },
  {
   "cell_type": "markdown",
   "id": "4fde3541",
   "metadata": {},
   "source": [
    "**PyBroker** also allows caching the computed indicator values to disk."
   ]
  },
  {
   "cell_type": "code",
   "execution_count": 11,
   "id": "c38b4612",
   "metadata": {},
   "outputs": [
    {
     "name": "stdout",
     "output_type": "stream",
     "text": [
      "Backtesting: 2020-04-01 00:00:00 to 2022-04-01 00:00:00\n",
      "\n",
      "Loaded cached bar data.\n",
      "\n",
      "Generating indicators...\n"
     ]
    },
    {
     "name": "stderr",
     "output_type": "stream",
     "text": [
      "100% (1 of 1) |##########################| Elapsed Time: 0:00:00 Time:  0:00:00\n"
     ]
    },
    {
     "name": "stdout",
     "output_type": "stream",
     "text": [
      "\n",
      "Test split: 2020-04-01 04:00:00 to 2022-03-31 04:00:00\n"
     ]
    },
    {
     "name": "stderr",
     "output_type": "stream",
     "text": [
      "100% (505 of 505) |######################| Elapsed Time: 0:00:00 Time:  0:00:00\n"
     ]
    },
    {
     "name": "stdout",
     "output_type": "stream",
     "text": [
      "\n",
      "Finished backtest: 0:00:01\n"
     ]
    },
    {
     "data": {
      "text/html": [
       "<div>\n",
       "<style scoped>\n",
       "    .dataframe tbody tr th:only-of-type {\n",
       "        vertical-align: middle;\n",
       "    }\n",
       "\n",
       "    .dataframe tbody tr th {\n",
       "        vertical-align: top;\n",
       "    }\n",
       "\n",
       "    .dataframe thead th {\n",
       "        text-align: right;\n",
       "    }\n",
       "</style>\n",
       "<table border=\"1\" class=\"dataframe\">\n",
       "  <thead>\n",
       "    <tr style=\"text-align: right;\">\n",
       "      <th></th>\n",
       "      <th>name</th>\n",
       "      <th>value</th>\n",
       "    </tr>\n",
       "  </thead>\n",
       "  <tbody>\n",
       "    <tr>\n",
       "      <th>0</th>\n",
       "      <td>trade_count</td>\n",
       "      <td>60.000000</td>\n",
       "    </tr>\n",
       "    <tr>\n",
       "      <th>1</th>\n",
       "      <td>initial_market_value</td>\n",
       "      <td>100000.000000</td>\n",
       "    </tr>\n",
       "    <tr>\n",
       "      <th>2</th>\n",
       "      <td>end_market_value</td>\n",
       "      <td>100759.360000</td>\n",
       "    </tr>\n",
       "    <tr>\n",
       "      <th>3</th>\n",
       "      <td>total_pnl</td>\n",
       "      <td>759.360000</td>\n",
       "    </tr>\n",
       "    <tr>\n",
       "      <th>4</th>\n",
       "      <td>total_return_pct</td>\n",
       "      <td>0.759360</td>\n",
       "    </tr>\n",
       "    <tr>\n",
       "      <th>5</th>\n",
       "      <td>total_profit</td>\n",
       "      <td>41596.750000</td>\n",
       "    </tr>\n",
       "    <tr>\n",
       "      <th>6</th>\n",
       "      <td>total_loss</td>\n",
       "      <td>-40837.390000</td>\n",
       "    </tr>\n",
       "    <tr>\n",
       "      <th>7</th>\n",
       "      <td>total_fees</td>\n",
       "      <td>0.000000</td>\n",
       "    </tr>\n",
       "    <tr>\n",
       "      <th>8</th>\n",
       "      <td>max_drawdown</td>\n",
       "      <td>-13446.930000</td>\n",
       "    </tr>\n",
       "    <tr>\n",
       "      <th>9</th>\n",
       "      <td>max_drawdown_pct</td>\n",
       "      <td>-11.977356</td>\n",
       "    </tr>\n",
       "    <tr>\n",
       "      <th>10</th>\n",
       "      <td>win_rate</td>\n",
       "      <td>53.333333</td>\n",
       "    </tr>\n",
       "    <tr>\n",
       "      <th>11</th>\n",
       "      <td>loss_rate</td>\n",
       "      <td>46.666667</td>\n",
       "    </tr>\n",
       "    <tr>\n",
       "      <th>12</th>\n",
       "      <td>winning_trades</td>\n",
       "      <td>32.000000</td>\n",
       "    </tr>\n",
       "    <tr>\n",
       "      <th>13</th>\n",
       "      <td>losing_trades</td>\n",
       "      <td>28.000000</td>\n",
       "    </tr>\n",
       "    <tr>\n",
       "      <th>14</th>\n",
       "      <td>avg_pnl</td>\n",
       "      <td>12.656000</td>\n",
       "    </tr>\n",
       "    <tr>\n",
       "      <th>15</th>\n",
       "      <td>avg_return_pct</td>\n",
       "      <td>0.029333</td>\n",
       "    </tr>\n",
       "    <tr>\n",
       "      <th>16</th>\n",
       "      <td>avg_trade_bars</td>\n",
       "      <td>3.000000</td>\n",
       "    </tr>\n",
       "    <tr>\n",
       "      <th>17</th>\n",
       "      <td>avg_profit</td>\n",
       "      <td>1299.898438</td>\n",
       "    </tr>\n",
       "    <tr>\n",
       "      <th>18</th>\n",
       "      <td>avg_profit_pct</td>\n",
       "      <td>1.260938</td>\n",
       "    </tr>\n",
       "    <tr>\n",
       "      <th>19</th>\n",
       "      <td>avg_winning_trade_bars</td>\n",
       "      <td>3.000000</td>\n",
       "    </tr>\n",
       "    <tr>\n",
       "      <th>20</th>\n",
       "      <td>avg_loss</td>\n",
       "      <td>-1458.478214</td>\n",
       "    </tr>\n",
       "    <tr>\n",
       "      <th>21</th>\n",
       "      <td>avg_loss_pct</td>\n",
       "      <td>-1.378214</td>\n",
       "    </tr>\n",
       "    <tr>\n",
       "      <th>22</th>\n",
       "      <td>avg_losing_trade_bars</td>\n",
       "      <td>3.000000</td>\n",
       "    </tr>\n",
       "    <tr>\n",
       "      <th>23</th>\n",
       "      <td>largest_win</td>\n",
       "      <td>4263.450000</td>\n",
       "    </tr>\n",
       "    <tr>\n",
       "      <th>24</th>\n",
       "      <td>largest_win_bars</td>\n",
       "      <td>3.000000</td>\n",
       "    </tr>\n",
       "    <tr>\n",
       "      <th>25</th>\n",
       "      <td>largest_loss</td>\n",
       "      <td>-4675.670000</td>\n",
       "    </tr>\n",
       "    <tr>\n",
       "      <th>26</th>\n",
       "      <td>largest_loss_bars</td>\n",
       "      <td>3.000000</td>\n",
       "    </tr>\n",
       "    <tr>\n",
       "      <th>27</th>\n",
       "      <td>max_wins</td>\n",
       "      <td>7.000000</td>\n",
       "    </tr>\n",
       "    <tr>\n",
       "      <th>28</th>\n",
       "      <td>max_losses</td>\n",
       "      <td>4.000000</td>\n",
       "    </tr>\n",
       "    <tr>\n",
       "      <th>29</th>\n",
       "      <td>sharpe</td>\n",
       "      <td>0.002291</td>\n",
       "    </tr>\n",
       "    <tr>\n",
       "      <th>30</th>\n",
       "      <td>profit_factor</td>\n",
       "      <td>1.009184</td>\n",
       "    </tr>\n",
       "    <tr>\n",
       "      <th>31</th>\n",
       "      <td>ulcer_index</td>\n",
       "      <td>1.882346</td>\n",
       "    </tr>\n",
       "    <tr>\n",
       "      <th>32</th>\n",
       "      <td>upi</td>\n",
       "      <td>0.001864</td>\n",
       "    </tr>\n",
       "    <tr>\n",
       "      <th>33</th>\n",
       "      <td>equity_r2</td>\n",
       "      <td>0.001543</td>\n",
       "    </tr>\n",
       "    <tr>\n",
       "      <th>34</th>\n",
       "      <td>std_error</td>\n",
       "      <td>3385.196768</td>\n",
       "    </tr>\n",
       "  </tbody>\n",
       "</table>\n",
       "</div>"
      ],
      "text/plain": [
       "                      name          value\n",
       "0              trade_count      60.000000\n",
       "1     initial_market_value  100000.000000\n",
       "2         end_market_value  100759.360000\n",
       "3                total_pnl     759.360000\n",
       "4         total_return_pct       0.759360\n",
       "5             total_profit   41596.750000\n",
       "6               total_loss  -40837.390000\n",
       "7               total_fees       0.000000\n",
       "8             max_drawdown  -13446.930000\n",
       "9         max_drawdown_pct     -11.977356\n",
       "10                win_rate      53.333333\n",
       "11               loss_rate      46.666667\n",
       "12          winning_trades      32.000000\n",
       "13           losing_trades      28.000000\n",
       "14                 avg_pnl      12.656000\n",
       "15          avg_return_pct       0.029333\n",
       "16          avg_trade_bars       3.000000\n",
       "17              avg_profit    1299.898438\n",
       "18          avg_profit_pct       1.260938\n",
       "19  avg_winning_trade_bars       3.000000\n",
       "20                avg_loss   -1458.478214\n",
       "21            avg_loss_pct      -1.378214\n",
       "22   avg_losing_trade_bars       3.000000\n",
       "23             largest_win    4263.450000\n",
       "24        largest_win_bars       3.000000\n",
       "25            largest_loss   -4675.670000\n",
       "26       largest_loss_bars       3.000000\n",
       "27                max_wins       7.000000\n",
       "28              max_losses       4.000000\n",
       "29                  sharpe       0.002291\n",
       "30           profit_factor       1.009184\n",
       "31             ulcer_index       1.882346\n",
       "32                     upi       0.001864\n",
       "33               equity_r2       0.001543\n",
       "34               std_error    3385.196768"
      ]
     },
     "execution_count": 11,
     "metadata": {},
     "output_type": "execute_result"
    }
   ],
   "source": [
    "result = strategy.backtest(calc_bootstrap=False)\n",
    "result.metrics_df"
   ]
  },
  {
   "cell_type": "markdown",
   "id": "a7be0348",
   "metadata": {},
   "source": [
    "When the backtest runs, **PyBroker** computes the indicator values. If there were multiple indicators added to the ```Strategy```, then **PyBroker** will compute them in parallel across multiple CPU cores."
   ]
  },
  {
   "cell_type": "markdown",
   "id": "bec8409d",
   "metadata": {},
   "source": [
    "## Vectorized Helpers\n",
    "\n",
    "**PyBroker** includes several vectorized helper functions. One of them is [highv](https://www.pybroker.com/en/latest/reference/pybroker.vect.html#pybroker.vect.highv), which computes the highest value for every preceding ```lookback``` period.\n",
    "\n",
    "Below defines an indicator that computes the \"highest\" high price for every period of 5 bars."
   ]
  },
  {
   "cell_type": "code",
   "execution_count": 12,
   "id": "3ca7b8ff",
   "metadata": {},
   "outputs": [],
   "source": [
    "from pybroker.vect import highv\n",
    "\n",
    "def hhv(bar_data, lookback):\n",
    "    return highv(bar_data.high, lookback)\n",
    "\n",
    "ind_hhv_5 = pybroker.indicator('hhv_5', hhv, lookback=5)"
   ]
  },
  {
   "cell_type": "code",
   "execution_count": 13,
   "id": "46267a69",
   "metadata": {},
   "outputs": [
    {
     "data": {
      "text/plain": [
       "2020-04-01 04:00:00           NaN\n",
       "2020-04-02 04:00:00           NaN\n",
       "2020-04-03 04:00:00           NaN\n",
       "2020-04-06 04:00:00           NaN\n",
       "2020-04-07 04:00:00    120.059998\n",
       "                          ...    \n",
       "2022-03-25 04:00:00    153.919998\n",
       "2022-03-28 04:00:00    153.919998\n",
       "2022-03-29 04:00:00    156.470001\n",
       "2022-03-30 04:00:00    156.470001\n",
       "2022-03-31 04:00:00    156.470001\n",
       "Length: 505, dtype: float64"
      ]
     },
     "execution_count": 13,
     "metadata": {},
     "output_type": "execute_result"
    }
   ],
   "source": [
    "ind_hhv_5(df)"
   ]
  },
  {
   "cell_type": "markdown",
   "id": "e1ed1b44",
   "metadata": {},
   "source": [
    "The [pybroker.vect](https://www.pybroker.com/en/latest/reference/pybroker.vect.html) module also includes other vectorized helpers such as [lowv](https://www.pybroker.com/en/latest/reference/pybroker.vect.html#pybroker.vect.lowv), [sumv](https://www.pybroker.com/en/latest/reference/pybroker.vect.html#pybroker.vect.sumv), and [cross](https://www.pybroker.com/en/latest/reference/pybroker.vect.html#pybroker.vect.cross), the last of which is used to compute crossovers.\n",
    "\n",
    "[The next step is to learn how to train a model using our custom indicator.](https://www.pybroker.com/en/latest/notebooks/6.%20Training%20a%20Model%20with%20Walkforward%20Analysis.html)"
   ]
  }
 ],
 "metadata": {
  "kernelspec": {
   "display_name": "Python 3 (ipykernel)",
   "language": "python",
   "name": "python3"
  },
  "language_info": {
   "codemirror_mode": {
    "name": "ipython",
    "version": 3
   },
   "file_extension": ".py",
   "mimetype": "text/x-python",
   "name": "python",
   "nbconvert_exporter": "python",
   "pygments_lexer": "ipython3",
   "version": "3.10.8"
  }
 },
 "nbformat": 4,
 "nbformat_minor": 5
}
